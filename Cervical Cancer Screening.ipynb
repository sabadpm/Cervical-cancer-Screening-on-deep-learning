{
 "cells": [
  {
   "cell_type": "code",
   "execution_count": null,
   "metadata": {
    "execution": {
     "iopub.execute_input": "2021-09-06T16:19:05.272289Z",
     "iopub.status.busy": "2021-09-06T16:19:05.271944Z",
     "iopub.status.idle": "2021-09-06T16:19:10.557809Z",
     "shell.execute_reply": "2021-09-06T16:19:10.556955Z",
     "shell.execute_reply.started": "2021-09-06T16:19:05.272255Z"
    }
   },
   "outputs": [],
   "source": [
    "# importing required libraries\n",
    "import numpy as np\n",
    "import pandas as pd\n",
    "import matplotlib.pyplot as plt\n",
    "import seaborn as sns\n",
    "import os\n",
    "import glob\n",
    "import plotly\n",
    "import plotly.graph_objects as go\n",
    "import cv2\n",
    "from PIL import Image\n",
    "from PIL import ImageFile\n",
    "from sklearn.model_selection import train_test_split\n",
    "from sklearn.preprocessing import LabelEncoder\n",
    "import tensorflow as tf\n",
    "from keras.preprocessing.image import ImageDataGenerator\n",
    "from keras.utils.np_utils import to_categorical\n",
    "from keras.applications.vgg16 import VGG16\n",
    "from keras.models import Sequential\n",
    "from keras.layers import Dense, Flatten , Dropout\n",
    "from keras.optimizers import Adam\n",
    "from keras.callbacks import EarlyStopping, ReduceLROnPlateau,ModelCheckpoint \n",
    "from sklearn.metrics import accuracy_score, confusion_matrix, classification_report\n",
    "import warnings\n",
    "warnings.filterwarnings(\"ignore\")\n",
    "ImageFile.LOAD_TRUNCATED_IMAGES = True"
   ]
  },
  {
   "cell_type": "code",
   "execution_count": null,
   "metadata": {
    "execution": {
     "iopub.execute_input": "2021-09-06T16:19:10.560521Z",
     "iopub.status.busy": "2021-09-06T16:19:10.560221Z",
     "iopub.status.idle": "2021-09-06T16:19:11.597265Z",
     "shell.execute_reply": "2021-09-06T16:19:11.596451Z",
     "shell.execute_reply.started": "2021-09-06T16:19:10.560495Z"
    }
   },
   "outputs": [],
   "source": [
    "# geting the data for training\n",
    "\n",
    "root_dir = '../input/intel-mobileodt-cervical-cancer-screening'\n",
    "train_dir = os.path.join(root_dir,'train', 'train')\n",
    "\n",
    "type1_dir = os.path.join(train_dir, 'Type_1')\n",
    "type2_dir = os.path.join(train_dir, 'Type_2')\n",
    "type3_dir = os.path.join(train_dir, 'Type_3')\n",
    "\n",
    "train_type1_files = glob.glob(type1_dir+'/*.jpg')\n",
    "train_type2_files = glob.glob(type2_dir+'/*.jpg')\n",
    "train_type3_files = glob.glob(type3_dir+'/*.jpg')\n",
    "\n",
    "added_type1_files  =  glob.glob(os.path.join(root_dir, \"additional_Type_1_v2\", \"Type_1\")+'/*.jpg')\n",
    "added_type2_files  =  glob.glob(os.path.join(root_dir, \"additional_Type_2_v2\", \"Type_2\")+'/*.jpg')\n",
    "added_type3_files  =  glob.glob(os.path.join(root_dir, \"additional_Type_3_v2\", \"Type_3\")+'/*.jpg')\n",
    "\n",
    "\n",
    "type1_files = train_type1_files + added_type1_files\n",
    "type2_files = train_type2_files + added_type2_files\n",
    "type3_files = train_type3_files + added_type3_files\n",
    "\n",
    "print(f'''Type 1 files for training: {len(type1_files)} \n",
    "Type 2 files for training: {len(type2_files)}\n",
    "Type 3 files for training: {len(type3_files)}''' )"
   ]
  },
  {
   "cell_type": "code",
   "execution_count": null,
   "metadata": {
    "execution": {
     "iopub.execute_input": "2021-09-06T16:19:11.605160Z",
     "iopub.status.busy": "2021-09-06T16:19:11.604607Z",
     "iopub.status.idle": "2021-09-06T16:19:11.640562Z",
     "shell.execute_reply": "2021-09-06T16:19:11.639652Z",
     "shell.execute_reply.started": "2021-09-06T16:19:11.605122Z"
    }
   },
   "outputs": [],
   "source": [
    "# create dataframe of labels and files\n",
    "files = {'filepath': type1_files + type2_files + type3_files,\n",
    "          'label': ['Type 1']* len(type1_files) + ['Type 2']* len(type2_files) + ['Type 3']* len(type3_files)}\n",
    "\n",
    "files_df = pd.DataFrame(files).sample(frac=1, random_state= 1).reset_index(drop=True)\n",
    "files_df"
   ]
  },
  {
   "cell_type": "code",
   "execution_count": null,
   "metadata": {
    "execution": {
     "iopub.execute_input": "2021-09-06T16:19:11.642181Z",
     "iopub.status.busy": "2021-09-06T16:19:11.641830Z",
     "iopub.status.idle": "2021-09-06T16:19:11.678167Z",
     "shell.execute_reply": "2021-09-06T16:19:11.677468Z",
     "shell.execute_reply.started": "2021-09-06T16:19:11.642147Z"
    }
   },
   "outputs": [],
   "source": [
    "# describe the dataframe\n",
    "files_df.describe()"
   ]
  },
  {
   "cell_type": "code",
   "execution_count": null,
   "metadata": {
    "execution": {
     "iopub.execute_input": "2021-09-06T16:19:11.679799Z",
     "iopub.status.busy": "2021-09-06T16:19:11.679488Z",
     "iopub.status.idle": "2021-09-06T16:19:11.692594Z",
     "shell.execute_reply": "2021-09-06T16:19:11.691888Z",
     "shell.execute_reply.started": "2021-09-06T16:19:11.679767Z"
    }
   },
   "outputs": [],
   "source": [
    "# check for duplicate file\n",
    "len(files_df[files_df.duplicated(subset=['filepath'])])"
   ]
  },
  {
   "cell_type": "code",
   "execution_count": null,
   "metadata": {
    "execution": {
     "iopub.execute_input": "2021-09-06T16:19:11.694048Z",
     "iopub.status.busy": "2021-09-06T16:19:11.693725Z",
     "iopub.status.idle": "2021-09-06T16:21:11.769227Z",
     "shell.execute_reply": "2021-09-06T16:21:11.768398Z",
     "shell.execute_reply.started": "2021-09-06T16:19:11.694014Z"
    }
   },
   "outputs": [],
   "source": [
    "# check for damaged files\n",
    "bad_files = []\n",
    "for path in (files_df['filepath'].values):\n",
    "    try:\n",
    "        img = Image.open(path)\n",
    "    except:\n",
    "        index = files_df[files_df['filepath']==path].index.values[0]\n",
    "        bad_files.append(index)\n",
    "print(len(bad_files))"
   ]
  },
  {
   "cell_type": "code",
   "execution_count": null,
   "metadata": {
    "execution": {
     "iopub.execute_input": "2021-09-06T16:21:11.780042Z",
     "iopub.status.busy": "2021-09-06T16:21:11.779575Z",
     "iopub.status.idle": "2021-09-06T16:21:11.791227Z",
     "shell.execute_reply": "2021-09-06T16:21:11.790394Z",
     "shell.execute_reply.started": "2021-09-06T16:21:11.780004Z"
    }
   },
   "outputs": [],
   "source": [
    "# drop the damaged files\n",
    "files_df.drop(bad_files, inplace=True)"
   ]
  },
  {
   "cell_type": "code",
   "execution_count": null,
   "metadata": {
    "execution": {
     "iopub.execute_input": "2021-09-06T16:21:11.792878Z",
     "iopub.status.busy": "2021-09-06T16:21:11.792491Z",
     "iopub.status.idle": "2021-09-06T16:21:11.808363Z",
     "shell.execute_reply": "2021-09-06T16:21:11.807180Z",
     "shell.execute_reply.started": "2021-09-06T16:21:11.792841Z"
    }
   },
   "outputs": [],
   "source": [
    "# check length of files in dataframe\n",
    "len(files_df)"
   ]
  },
  {
   "cell_type": "code",
   "execution_count": null,
   "metadata": {
    "execution": {
     "iopub.execute_input": "2021-09-06T16:21:11.810282Z",
     "iopub.status.busy": "2021-09-06T16:21:11.809851Z",
     "iopub.status.idle": "2021-09-06T16:21:11.821290Z",
     "shell.execute_reply": "2021-09-06T16:21:11.820470Z",
     "shell.execute_reply.started": "2021-09-06T16:21:11.810246Z"
    }
   },
   "outputs": [],
   "source": [
    "# check unique labels\n",
    "files_df['label'].unique()"
   ]
  },
  {
   "cell_type": "code",
   "execution_count": null,
   "metadata": {
    "execution": {
     "iopub.execute_input": "2021-09-06T16:21:11.822863Z",
     "iopub.status.busy": "2021-09-06T16:21:11.822520Z",
     "iopub.status.idle": "2021-09-06T16:21:11.838115Z",
     "shell.execute_reply": "2021-09-06T16:21:11.837349Z",
     "shell.execute_reply.started": "2021-09-06T16:21:11.822829Z"
    }
   },
   "outputs": [],
   "source": [
    "# get count of each type \n",
    "type_count = pd.DataFrame(files_df['label'].value_counts()).rename(columns= {'label': 'Num_Values'})\n",
    "type_count"
   ]
  },
  {
   "cell_type": "code",
   "execution_count": null,
   "metadata": {
    "execution": {
     "iopub.execute_input": "2021-09-06T16:21:11.841539Z",
     "iopub.status.busy": "2021-09-06T16:21:11.841252Z",
     "iopub.status.idle": "2021-09-06T16:21:11.980189Z",
     "shell.execute_reply": "2021-09-06T16:21:11.979402Z",
     "shell.execute_reply.started": "2021-09-06T16:21:11.841489Z"
    }
   },
   "outputs": [],
   "source": [
    "# display barplot of type count\n",
    "plt.figure(figsize = (15, 6))\n",
    "sns.barplot(x= type_count['Num_Values'], y= type_count.index.to_list())\n",
    "plt.title('Cervical Cancer Type Distribution')\n",
    "plt.grid(True)\n",
    "plt.show()"
   ]
  },
  {
   "cell_type": "code",
   "execution_count": null,
   "metadata": {
    "execution": {
     "iopub.execute_input": "2021-09-06T16:21:11.982225Z",
     "iopub.status.busy": "2021-09-06T16:21:11.981968Z",
     "iopub.status.idle": "2021-09-06T16:21:12.108607Z",
     "shell.execute_reply": "2021-09-06T16:21:12.107879Z",
     "shell.execute_reply.started": "2021-09-06T16:21:11.982194Z"
    }
   },
   "outputs": [],
   "source": [
    "# displaying pieplot of label distribution\n",
    "pie_plot = go.Pie(labels= type_count.index.to_list(), values= type_count.values.flatten(),\n",
    "                 hole= 0.2, text= type_count.index.to_list(), textposition='auto')\n",
    "fig = go.Figure([pie_plot])\n",
    "fig.update_layout(title_text='Pie Plot of Type Distribution')\n",
    "fig.show()"
   ]
  },
  {
   "cell_type": "code",
   "execution_count": null,
   "metadata": {
    "execution": {
     "iopub.execute_input": "2021-09-06T16:21:12.110050Z",
     "iopub.status.busy": "2021-09-06T16:21:12.109725Z",
     "iopub.status.idle": "2021-09-06T16:21:16.388436Z",
     "shell.execute_reply": "2021-09-06T16:21:16.387476Z",
     "shell.execute_reply.started": "2021-09-06T16:21:12.110015Z"
    }
   },
   "outputs": [],
   "source": [
    "# sample images of types\n",
    "for label in ('Type 1', 'Type 2', 'Type 3'):\n",
    "    filepaths = files_df[files_df['label']==label]['filepath'].values[:5]\n",
    "    fig = plt.figure(figsize= (15, 6))\n",
    "    for i, path in enumerate(filepaths):\n",
    "        img = cv2.imread(path)\n",
    "        img = cv2.cvtColor(img, cv2.COLOR_RGB2BGR)\n",
    "        img = cv2.resize(img, (224, 224))\n",
    "        fig.add_subplot(1, 5, i+1)\n",
    "        plt.imshow(img)\n",
    "        plt.subplots_adjust(hspace=0.5)\n",
    "        plt.axis(False)\n",
    "        plt.title(label)"
   ]
  },
  {
   "cell_type": "code",
   "execution_count": null,
   "metadata": {
    "execution": {
     "iopub.execute_input": "2021-09-06T16:21:16.390138Z",
     "iopub.status.busy": "2021-09-06T16:21:16.389804Z",
     "iopub.status.idle": "2021-09-06T16:21:16.417019Z",
     "shell.execute_reply": "2021-09-06T16:21:16.416209Z",
     "shell.execute_reply.started": "2021-09-06T16:21:16.390104Z"
    }
   },
   "outputs": [],
   "source": [
    "#  split the data into train  and validation set\n",
    "train_df, eval_df = train_test_split(files_df, test_size= 0.2, stratify= files_df['label'], random_state= 1)\n",
    "val_df, test_df = train_test_split(eval_df, test_size= 0.5, stratify= eval_df['label'], random_state= 1)\n",
    "print(len(train_df), len(val_df), len(test_df))"
   ]
  },
  {
   "cell_type": "code",
   "execution_count": null,
   "metadata": {
    "execution": {
     "iopub.execute_input": "2021-09-06T16:21:16.418746Z",
     "iopub.status.busy": "2021-09-06T16:21:16.418336Z",
     "iopub.status.idle": "2021-09-06T16:21:16.425407Z",
     "shell.execute_reply": "2021-09-06T16:21:16.424465Z",
     "shell.execute_reply.started": "2021-09-06T16:21:16.418706Z"
    }
   },
   "outputs": [],
   "source": [
    "# loads images from dataframe\n",
    "def load_images(dataframe):\n",
    "    features = []\n",
    "    filepaths = dataframe['filepath'].values\n",
    "    labels = dataframe['label'].values\n",
    "    \n",
    "    for path in filepaths:\n",
    "        img = cv2.imread(path)\n",
    "        resized_img = cv2.resize(img, (180, 180))\n",
    "        features.append(np.array(resized_img))\n",
    "    return np.array(features), np.array(labels)"
   ]
  },
  {
   "cell_type": "code",
   "execution_count": null,
   "metadata": {
    "execution": {
     "iopub.execute_input": "2021-09-06T16:21:16.427045Z",
     "iopub.status.busy": "2021-09-06T16:21:16.426703Z",
     "iopub.status.idle": "2021-09-06T16:46:56.498719Z",
     "shell.execute_reply": "2021-09-06T16:46:56.493943Z",
     "shell.execute_reply.started": "2021-09-06T16:21:16.427009Z"
    }
   },
   "outputs": [],
   "source": [
    "# load training and evaluation data\n",
    "train_features, train_labels = load_images(train_df)\n",
    "val_features, val_labels = load_images(val_df)\n",
    "test_features, test_labels = load_images(test_df)"
   ]
  },
  {
   "cell_type": "code",
   "execution_count": null,
   "metadata": {
    "execution": {
     "iopub.execute_input": "2021-09-06T16:46:56.508224Z",
     "iopub.status.busy": "2021-09-06T16:46:56.507748Z",
     "iopub.status.idle": "2021-09-06T16:46:56.518667Z",
     "shell.execute_reply": "2021-09-06T16:46:56.517580Z",
     "shell.execute_reply.started": "2021-09-06T16:46:56.508193Z"
    }
   },
   "outputs": [],
   "source": [
    "# check lengths of training and evaluation  sets\n",
    "len(train_features), len(train_labels), len(test_features), len(test_labels), len(test_features), len(test_labels) "
   ]
  },
  {
   "cell_type": "code",
   "execution_count": null,
   "metadata": {
    "execution": {
     "iopub.execute_input": "2021-09-06T16:46:56.520483Z",
     "iopub.status.busy": "2021-09-06T16:46:56.520109Z",
     "iopub.status.idle": "2021-09-06T16:46:56.535186Z",
     "shell.execute_reply": "2021-09-06T16:46:56.534442Z",
     "shell.execute_reply.started": "2021-09-06T16:46:56.520448Z"
    }
   },
   "outputs": [],
   "source": [
    "# get image shape\n",
    "InputShape = train_features[0].shape\n",
    "print(InputShape)"
   ]
  },
  {
   "cell_type": "code",
   "execution_count": null,
   "metadata": {
    "execution": {
     "iopub.execute_input": "2021-09-06T16:46:56.536765Z",
     "iopub.status.busy": "2021-09-06T16:46:56.536409Z",
     "iopub.status.idle": "2021-09-06T16:47:01.882803Z",
     "shell.execute_reply": "2021-09-06T16:47:01.881908Z",
     "shell.execute_reply.started": "2021-09-06T16:46:56.536729Z"
    }
   },
   "outputs": [],
   "source": [
    "# normalize the features\n",
    "X_train = train_features/255\n",
    "X_val  = val_features/255\n",
    "X_test  = test_features/255"
   ]
  },
  {
   "cell_type": "code",
   "execution_count": null,
   "metadata": {
    "execution": {
     "iopub.execute_input": "2021-09-06T16:47:01.886454Z",
     "iopub.status.busy": "2021-09-06T16:47:01.886172Z",
     "iopub.status.idle": "2021-09-06T16:47:01.897054Z",
     "shell.execute_reply": "2021-09-06T16:47:01.896325Z",
     "shell.execute_reply.started": "2021-09-06T16:47:01.886428Z"
    }
   },
   "outputs": [],
   "source": [
    "# encode the labels\n",
    "le = LabelEncoder().fit(['Type 1', 'Type 2', 'Type 3'])\n",
    "y_train = le.transform(train_labels)\n",
    "y_val = le.transform(val_labels)\n",
    "y_test = le.transform(test_labels)"
   ]
  },
  {
   "cell_type": "code",
   "execution_count": null,
   "metadata": {
    "execution": {
     "iopub.execute_input": "2021-09-06T16:47:01.902497Z",
     "iopub.status.busy": "2021-09-06T16:47:01.902212Z",
     "iopub.status.idle": "2021-09-06T16:47:01.911764Z",
     "shell.execute_reply": "2021-09-06T16:47:01.910718Z",
     "shell.execute_reply.started": "2021-09-06T16:47:01.902469Z"
    }
   },
   "outputs": [],
   "source": [
    "# check unique labels\n",
    "np.unique(y_train)"
   ]
  },
  {
   "cell_type": "code",
   "execution_count": null,
   "metadata": {
    "execution": {
     "iopub.execute_input": "2021-09-06T16:47:01.914436Z",
     "iopub.status.busy": "2021-09-06T16:47:01.914113Z",
     "iopub.status.idle": "2021-09-06T16:47:01.937020Z",
     "shell.execute_reply": "2021-09-06T16:47:01.935248Z",
     "shell.execute_reply.started": "2021-09-06T16:47:01.914403Z"
    }
   },
   "outputs": [],
   "source": [
    "# initialize image data generator for training and evaluation sets\n",
    "train_datagen = ImageDataGenerator(\n",
    "                                rotation_range = 40,\n",
    "                                zoom_range = 0.2,\n",
    "                                width_shift_range=0.2,\n",
    "                                height_shift_range=0.2,\n",
    "                                shear_range=0.2,\n",
    "                                horizontal_flip=True,\n",
    "                                vertical_flip = True)\n",
    "\n",
    "eval_datagen = ImageDataGenerator()"
   ]
  },
  {
   "cell_type": "code",
   "execution_count": null,
   "metadata": {
    "execution": {
     "iopub.execute_input": "2021-09-06T16:47:01.939797Z",
     "iopub.status.busy": "2021-09-06T16:47:01.939375Z",
     "iopub.status.idle": "2021-09-06T16:47:05.069557Z",
     "shell.execute_reply": "2021-09-06T16:47:05.068592Z",
     "shell.execute_reply.started": "2021-09-06T16:47:01.939759Z"
    }
   },
   "outputs": [],
   "source": [
    "# apply data augmentation to features\n",
    "BATCH_SIZE= 32\n",
    "train_gen = train_datagen.flow(X_train, y_train, batch_size= BATCH_SIZE)\n",
    "val_gen = eval_datagen.flow(X_val, y_val, batch_size= BATCH_SIZE)\n",
    "test_gen = eval_datagen.flow(X_test, y_test, batch_size= BATCH_SIZE)"
   ]
  },
  {
   "cell_type": "code",
   "execution_count": null,
   "metadata": {
    "execution": {
     "iopub.execute_input": "2021-09-06T16:47:05.286539Z",
     "iopub.status.busy": "2021-09-06T16:47:05.286160Z",
     "iopub.status.idle": "2021-09-06T16:47:08.444148Z",
     "shell.execute_reply": "2021-09-06T16:47:08.443311Z",
     "shell.execute_reply.started": "2021-09-06T16:47:05.286502Z"
    }
   },
   "outputs": [],
   "source": [
    "# initialize pretrained vgg model base\n",
    "conv_base = VGG16(weights= 'imagenet', include_top= False, input_shape= (180, 180, 3))"
   ]
  },
  {
   "cell_type": "code",
   "execution_count": null,
   "metadata": {
    "execution": {
     "iopub.execute_input": "2021-09-06T16:47:08.445756Z",
     "iopub.status.busy": "2021-09-06T16:47:08.445440Z",
     "iopub.status.idle": "2021-09-06T16:47:08.455052Z",
     "shell.execute_reply": "2021-09-06T16:47:08.454217Z",
     "shell.execute_reply.started": "2021-09-06T16:47:08.445720Z"
    }
   },
   "outputs": [],
   "source": [
    "# show trainable layers before freezing\n",
    "print('This is the number of trainable weights '\n",
    "'before freezing layers in the conv base:', len(conv_base.trainable_weights))"
   ]
  },
  {
   "cell_type": "code",
   "execution_count": null,
   "metadata": {
    "execution": {
     "iopub.execute_input": "2021-09-06T16:47:08.456604Z",
     "iopub.status.busy": "2021-09-06T16:47:08.456135Z",
     "iopub.status.idle": "2021-09-06T16:47:08.462424Z",
     "shell.execute_reply": "2021-09-06T16:47:08.461242Z",
     "shell.execute_reply.started": "2021-09-06T16:47:08.456566Z"
    }
   },
   "outputs": [],
   "source": [
    "# freeze few layers of pretrained model\n",
    "for layer in conv_base.layers[:-5]:\n",
    "    layer.trainable= False"
   ]
  },
  {
   "cell_type": "code",
   "execution_count": null,
   "metadata": {
    "execution": {
     "iopub.execute_input": "2021-09-06T16:47:08.464229Z",
     "iopub.status.busy": "2021-09-06T16:47:08.463767Z",
     "iopub.status.idle": "2021-09-06T16:47:08.472844Z",
     "shell.execute_reply": "2021-09-06T16:47:08.471814Z",
     "shell.execute_reply.started": "2021-09-06T16:47:08.464193Z"
    }
   },
   "outputs": [],
   "source": [
    "# show trainable layers after freezing\n",
    "print('This is the number of trainable weights '\n",
    "'after freezing layers in the conv base:', len(conv_base.trainable_weights))"
   ]
  },
  {
   "cell_type": "code",
   "execution_count": null,
   "metadata": {
    "execution": {
     "iopub.execute_input": "2021-09-06T16:47:08.475228Z",
     "iopub.status.busy": "2021-09-06T16:47:08.474727Z",
     "iopub.status.idle": "2021-09-06T16:47:08.555546Z",
     "shell.execute_reply": "2021-09-06T16:47:08.554625Z",
     "shell.execute_reply.started": "2021-09-06T16:47:08.475189Z"
    }
   },
   "outputs": [],
   "source": [
    "# build model \n",
    "model = Sequential([conv_base, \n",
    "                    Flatten(),\n",
    "                   Dropout(0.5),\n",
    "                   Dense(3, activation='softmax')])"
   ]
  },
  {
   "cell_type": "code",
   "execution_count": null,
   "metadata": {
    "execution": {
     "iopub.execute_input": "2021-09-06T16:47:08.557275Z",
     "iopub.status.busy": "2021-09-06T16:47:08.556889Z",
     "iopub.status.idle": "2021-09-06T16:47:08.575273Z",
     "shell.execute_reply": "2021-09-06T16:47:08.574259Z",
     "shell.execute_reply.started": "2021-09-06T16:47:08.557217Z"
    }
   },
   "outputs": [],
   "source": [
    "# compile model\n",
    "model.compile(optimizer= Adam(0.0001), loss= 'sparse_categorical_crossentropy', metrics= ['accuracy'])"
   ]
  },
  {
   "cell_type": "code",
   "execution_count": null,
   "metadata": {
    "execution": {
     "iopub.execute_input": "2021-09-06T16:47:08.576911Z",
     "iopub.status.busy": "2021-09-06T16:47:08.576526Z",
     "iopub.status.idle": "2021-09-06T16:47:08.587946Z",
     "shell.execute_reply": "2021-09-06T16:47:08.586925Z",
     "shell.execute_reply.started": "2021-09-06T16:47:08.576872Z"
    }
   },
   "outputs": [],
   "source": [
    "# show model summary\n",
    "model.summary()"
   ]
  },
  {
   "cell_type": "code",
   "execution_count": null,
   "metadata": {
    "execution": {
     "iopub.execute_input": "2021-09-06T16:47:08.589994Z",
     "iopub.status.busy": "2021-09-06T16:47:08.589332Z",
     "iopub.status.idle": "2021-09-06T16:47:08.595407Z",
     "shell.execute_reply": "2021-09-06T16:47:08.594312Z",
     "shell.execute_reply.started": "2021-09-06T16:47:08.589945Z"
    }
   },
   "outputs": [],
   "source": [
    "# define training steps\n",
    "TRAIN_STEPS = len(train_df)//BATCH_SIZE\n",
    "VAL_STEPS = len(val_df)//BATCH_SIZE"
   ]
  },
  {
   "cell_type": "code",
   "execution_count": null,
   "metadata": {
    "execution": {
     "iopub.execute_input": "2021-09-06T16:47:08.597511Z",
     "iopub.status.busy": "2021-09-06T16:47:08.596828Z",
     "iopub.status.idle": "2021-09-06T16:47:08.605324Z",
     "shell.execute_reply": "2021-09-06T16:47:08.604255Z",
     "shell.execute_reply.started": "2021-09-06T16:47:08.597470Z"
    }
   },
   "outputs": [],
   "source": [
    "# initialize callbacks\n",
    "reduceLR = ReduceLROnPlateau(monitor='val_loss', patience=10, verbose= 1, mode='min', factor=  0.2, min_lr = 1e-5)\n",
    "\n",
    "early_stopping = EarlyStopping(monitor='val_loss', patience = 20, verbose=1, mode='min', restore_best_weights= True)\n",
    "\n",
    "checkpoint = ModelCheckpoint('cervicalModel.weights.hdf5', monitor='val_loss', verbose=1,save_best_only=True, mode= 'min')"
   ]
  },
  {
   "cell_type": "code",
   "execution_count": null,
   "metadata": {
    "execution": {
     "iopub.execute_input": "2021-09-06T16:47:08.607484Z",
     "iopub.status.busy": "2021-09-06T16:47:08.606750Z",
     "iopub.status.idle": "2021-09-06T17:27:30.727069Z",
     "shell.execute_reply": "2021-09-06T17:27:30.724528Z",
     "shell.execute_reply.started": "2021-09-06T16:47:08.607433Z"
    }
   },
   "outputs": [],
   "source": [
    "# train model\n",
    "history = model.fit(train_gen, steps_per_epoch= TRAIN_STEPS, validation_data=val_gen, validation_steps=VAL_STEPS, epochs= 30,\n",
    "                   callbacks= [reduceLR, early_stopping, checkpoint])"
   ]
  },
  {
   "cell_type": "code",
   "execution_count": null,
   "metadata": {
    "execution": {
     "iopub.execute_input": "2021-09-06T17:27:30.730391Z",
     "iopub.status.busy": "2021-09-06T17:27:30.729995Z",
     "iopub.status.idle": "2021-09-06T17:27:30.747191Z",
     "shell.execute_reply": "2021-09-06T17:27:30.746481Z",
     "shell.execute_reply.started": "2021-09-06T17:27:30.730349Z"
    }
   },
   "outputs": [],
   "source": [
    "# read training history into dataframe\n",
    "history_df = pd.DataFrame(history.history)"
   ]
  },
  {
   "cell_type": "code",
   "execution_count": null,
   "metadata": {
    "execution": {
     "iopub.execute_input": "2021-09-06T17:27:30.748574Z",
     "iopub.status.busy": "2021-09-06T17:27:30.748255Z",
     "iopub.status.idle": "2021-09-06T17:27:31.136724Z",
     "shell.execute_reply": "2021-09-06T17:27:31.135930Z",
     "shell.execute_reply.started": "2021-09-06T17:27:30.748540Z"
    }
   },
   "outputs": [],
   "source": [
    "# display training and validation history\n",
    "\n",
    "# display history of accurracy\n",
    "plt.figure(figsize= (15,6))\n",
    "plt.subplot(1,2,1)\n",
    "plt.plot(history_df['accuracy'], label= 'accuracy' )\n",
    "plt.plot(history_df['val_accuracy'], label= 'val_accuracy')\n",
    "# history_df[['acc', 'val_acc']]\n",
    "plt.xlabel('Epochs')\n",
    "plt.ylabel('Accuracy')\n",
    "plt.title('Training and Validation Accuracy History')\n",
    "plt.legend()\n",
    "\n",
    "# display history of loss\n",
    "plt.subplot(1,2,2)\n",
    "plt.plot(history_df['loss'], label= 'loss')\n",
    "plt.plot(history_df['val_loss'], label= 'val_loss')\n",
    "# history_df[['loss', 'val_loss']].plot()\n",
    "plt.xlabel('Epochs')\n",
    "plt.ylabel('Loss')\n",
    "plt.title('Training and Validation Loss History')\n",
    "plt.legend()\n",
    "\n",
    "plt.show()"
   ]
  },
  {
   "cell_type": "code",
   "execution_count": null,
   "metadata": {
    "execution": {
     "iopub.execute_input": "2021-09-06T17:27:31.138255Z",
     "iopub.status.busy": "2021-09-06T17:27:31.137919Z",
     "iopub.status.idle": "2021-09-06T17:27:31.211027Z",
     "shell.execute_reply": "2021-09-06T17:27:31.210137Z",
     "shell.execute_reply.started": "2021-09-06T17:27:31.138215Z"
    }
   },
   "outputs": [],
   "source": [
    "# load best weights into model\n",
    "model.load_weights('cervicalModel.weights.hdf5')"
   ]
  },
  {
   "cell_type": "code",
   "execution_count": null,
   "metadata": {
    "execution": {
     "iopub.execute_input": "2021-09-06T17:27:31.212722Z",
     "iopub.status.busy": "2021-09-06T17:27:31.212331Z",
     "iopub.status.idle": "2021-09-06T17:27:31.412458Z",
     "shell.execute_reply": "2021-09-06T17:27:31.411589Z",
     "shell.execute_reply.started": "2021-09-06T17:27:31.212679Z"
    }
   },
   "outputs": [],
   "source": [
    "# save model\n",
    "model.save('cancer_screen_model.h5')"
   ]
  },
  {
   "cell_type": "code",
   "execution_count": null,
   "metadata": {
    "execution": {
     "iopub.execute_input": "2021-09-06T17:27:31.414166Z",
     "iopub.status.busy": "2021-09-06T17:27:31.413821Z",
     "iopub.status.idle": "2021-09-06T17:27:34.076401Z",
     "shell.execute_reply": "2021-09-06T17:27:34.075592Z",
     "shell.execute_reply.started": "2021-09-06T17:27:31.414129Z"
    }
   },
   "outputs": [],
   "source": [
    "# evaluate model on test set\n",
    "model.evaluate(test_gen)"
   ]
  },
  {
   "cell_type": "code",
   "execution_count": null,
   "metadata": {
    "execution": {
     "iopub.execute_input": "2021-09-06T17:27:34.078063Z",
     "iopub.status.busy": "2021-09-06T17:27:34.077722Z",
     "iopub.status.idle": "2021-09-06T17:27:34.082010Z",
     "shell.execute_reply": "2021-09-06T17:27:34.080815Z",
     "shell.execute_reply.started": "2021-09-06T17:27:34.078027Z"
    }
   },
   "outputs": [],
   "source": [
    "# with open('cancer.pickle', 'wb') as f:\n",
    "#     pickle.dump(model, f)"
   ]
  },
  {
   "cell_type": "code",
   "execution_count": null,
   "metadata": {
    "execution": {
     "iopub.execute_input": "2021-09-06T17:27:34.084185Z",
     "iopub.status.busy": "2021-09-06T17:27:34.083700Z",
     "iopub.status.idle": "2021-09-06T17:27:34.091860Z",
     "shell.execute_reply": "2021-09-06T17:27:34.090993Z",
     "shell.execute_reply.started": "2021-09-06T17:27:34.084037Z"
    }
   },
   "outputs": [],
   "source": [
    "# get test data directory\n",
    "test_dir = os.path.join(root_dir,'test', 'test')"
   ]
  },
  {
   "cell_type": "code",
   "execution_count": null,
   "metadata": {
    "execution": {
     "iopub.execute_input": "2021-09-06T17:27:34.093733Z",
     "iopub.status.busy": "2021-09-06T17:27:34.093318Z",
     "iopub.status.idle": "2021-09-06T17:29:11.800414Z",
     "shell.execute_reply": "2021-09-06T17:29:11.799556Z",
     "shell.execute_reply.started": "2021-09-06T17:27:34.093695Z"
    }
   },
   "outputs": [],
   "source": [
    "# load test features and labels\n",
    "test_filenames = []\n",
    "test_features = []\n",
    "for filename in os.listdir(test_dir):\n",
    "    test_filenames.append(filename)\n",
    "    filepath = os.path.join(test_dir, filename)\n",
    "    img = cv2.imread(filepath)\n",
    "    resized_img = cv2.resize(img, (180, 180))\n",
    "    test_features.append(np.array(resized_img)) "
   ]
  },
  {
   "cell_type": "code",
   "execution_count": null,
   "metadata": {
    "execution": {
     "iopub.execute_input": "2021-09-06T17:29:11.803223Z",
     "iopub.status.busy": "2021-09-06T17:29:11.802933Z",
     "iopub.status.idle": "2021-09-06T17:29:11.808811Z",
     "shell.execute_reply": "2021-09-06T17:29:11.807953Z",
     "shell.execute_reply.started": "2021-09-06T17:29:11.803197Z"
    }
   },
   "outputs": [],
   "source": [
    "# show length of test features and labels\n",
    "print(len(test_filenames), len(test_features))"
   ]
  },
  {
   "cell_type": "code",
   "execution_count": null,
   "metadata": {
    "execution": {
     "iopub.execute_input": "2021-09-06T17:29:11.810901Z",
     "iopub.status.busy": "2021-09-06T17:29:11.810285Z",
     "iopub.status.idle": "2021-09-06T17:29:12.233110Z",
     "shell.execute_reply": "2021-09-06T17:29:12.232179Z",
     "shell.execute_reply.started": "2021-09-06T17:29:11.810861Z"
    }
   },
   "outputs": [],
   "source": [
    "# normalize test features\n",
    "test_X = np.array(test_features)\n",
    "test_X = test_X/255"
   ]
  },
  {
   "cell_type": "code",
   "execution_count": null,
   "metadata": {
    "execution": {
     "iopub.execute_input": "2021-09-06T17:29:12.235167Z",
     "iopub.status.busy": "2021-09-06T17:29:12.234585Z",
     "iopub.status.idle": "2021-09-06T17:29:13.675973Z",
     "shell.execute_reply": "2021-09-06T17:29:13.675135Z",
     "shell.execute_reply.started": "2021-09-06T17:29:12.235128Z"
    }
   },
   "outputs": [],
   "source": [
    "# get test predictions\n",
    "test_predict = model.predict(test_X)\n",
    "test_predict[0]"
   ]
  },
  {
   "cell_type": "code",
   "execution_count": null,
   "metadata": {
    "execution": {
     "iopub.execute_input": "2021-09-06T17:29:13.678363Z",
     "iopub.status.busy": "2021-09-06T17:29:13.677953Z",
     "iopub.status.idle": "2021-09-06T17:29:13.685407Z",
     "shell.execute_reply": "2021-09-06T17:29:13.684306Z",
     "shell.execute_reply.started": "2021-09-06T17:29:13.678322Z"
    }
   },
   "outputs": [],
   "source": [
    "# show encoded classes\n",
    "le.classes_"
   ]
  },
  {
   "cell_type": "code",
   "execution_count": null,
   "metadata": {
    "execution": {
     "iopub.execute_input": "2021-09-06T17:29:13.687689Z",
     "iopub.status.busy": "2021-09-06T17:29:13.686969Z",
     "iopub.status.idle": "2021-09-06T17:29:13.733126Z",
     "shell.execute_reply": "2021-09-06T17:29:13.732025Z",
     "shell.execute_reply.started": "2021-09-06T17:29:13.687648Z"
    }
   },
   "outputs": [],
   "source": [
    "# create dataframe of test predictions\n",
    "sub_df = pd.DataFrame(test_predict, columns= ['Type 1', 'Type 2', 'Type 3' ])\n",
    "sub_df['image_name'] = test_filenames\n",
    "sub_df = sub_df[['image_name', 'Type 1', 'Type 2', 'Type 3']]\n",
    "sub_df = sub_df.sort_values(['image_name']).reset_index(drop=True)\n",
    "sub_df.head()"
   ]
  },
  {
   "cell_type": "code",
   "execution_count": null,
   "metadata": {
    "execution": {
     "iopub.execute_input": "2021-09-06T17:29:13.735086Z",
     "iopub.status.busy": "2021-09-06T17:29:13.734688Z",
     "iopub.status.idle": "2021-09-06T17:29:13.754115Z",
     "shell.execute_reply": "2021-09-06T17:29:13.753317Z",
     "shell.execute_reply.started": "2021-09-06T17:29:13.735046Z"
    }
   },
   "outputs": [],
   "source": [
    "# create csv file of test predictions\n",
    "sub_df.to_csv('submission.csv', index=False)"
   ]
  }
 ],
 "metadata": {
  "kernelspec": {
   "display_name": "Python 3 (ipykernel)",
   "language": "python",
   "name": "python3"
  },
  "language_info": {
   "codemirror_mode": {
    "name": "ipython",
    "version": 3
   },
   "file_extension": ".py",
   "mimetype": "text/x-python",
   "name": "python",
   "nbconvert_exporter": "python",
   "pygments_lexer": "ipython3",
   "version": "3.9.7"
  }
 },
 "nbformat": 4,
 "nbformat_minor": 4
}
